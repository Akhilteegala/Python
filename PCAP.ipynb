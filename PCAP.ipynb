{
 "cells": [
  {
   "cell_type": "code",
   "execution_count": 27,
   "id": "833c2ee8",
   "metadata": {},
   "outputs": [
    {
     "name": "stdout",
     "output_type": "stream",
     "text": [
      "['__doc__', '__file__', '__loader__', '__name__', '__package__', '__spec__', 'acos', 'acosh', 'asin', 'asinh', 'atan', 'atan2', 'atanh', 'cbrt', 'ceil', 'comb', 'copysign', 'cos', 'cosh', 'degrees', 'dist', 'e', 'erf', 'erfc', 'exp', 'exp2', 'expm1', 'fabs', 'factorial', 'floor', 'fmod', 'frexp', 'fsum', 'gamma', 'gcd', 'hypot', 'inf', 'isclose', 'isfinite', 'isinf', 'isnan', 'isqrt', 'lcm', 'ldexp', 'lgamma', 'log', 'log10', 'log1p', 'log2', 'modf', 'nan', 'nextafter', 'perm', 'pi', 'pow', 'prod', 'radians', 'remainder', 'sin', 'sinh', 'sqrt', 'sumprod', 'tan', 'tanh', 'tau', 'trunc', 'ulp']\n",
      "4\n",
      "1\n",
      "3\n",
      "2\n"
     ]
    }
   ],
   "source": [
    "import math\n",
    "print(dir(math), end='\\n')\n",
    "print(math.ceil(3.9))  #“Round up” to the smallest integer ≥ x\n",
    "print(math.trunc(1.999999)) # r“Round down” to the largest integer ≤ x\n",
    "print(math.floor(3.99)) #Chop off the fractional part, keeping the integer part only\n",
    "print(math.factorial(2))# factorial only works for positive integers. n! = n * (n-1)"
   ]
  },
  {
   "cell_type": "code",
   "execution_count": 138,
   "id": "b714da7c",
   "metadata": {},
   "outputs": [
    {
     "name": "stdout",
     "output_type": "stream",
     "text": [
      "0.3984495817494874\n",
      "0.13042773005578567\n",
      "0.5791983256664136\n",
      "0.12410240515674054\n",
      "0.7066868407027309\n",
      "0.6386976408522814\n",
      "0.9316473592778284\n",
      "0.1676793224879891\n",
      "0.11712667664643583\n",
      "0.4803510409110483\n",
      "6\n",
      "[1, 6, 2, 4, 5]\n"
     ]
    }
   ],
   "source": [
    "import random # random gives the random elements between 0 & 1\n",
    "for i in range(10):\n",
    "    print(random.random())\n",
    "\n",
    "a = [1,2,4,5,6]\n",
    "\n",
    "print(random.choice(a)) # we can use choice to select random element froma list but it might give duplicates\n",
    "\n",
    "b = ['ram', 'ford', 'bmw', 'kia']\n",
    "print(random.sample(a,5)) # with sample we can give a positional arg and gives no duplicates\n",
    "#picks elements with unique indexes but doesn't verify whether the elements at these indexes are unique"
   ]
  },
  {
   "cell_type": "code",
   "execution_count": 77,
   "id": "bf810933",
   "metadata": {},
   "outputs": [
    {
     "name": "stdout",
     "output_type": "stream",
     "text": [
      "macOS-14.2.1-arm64-arm-64bit\n",
      "arm64\n",
      "Darwin\n",
      "arm\n",
      "CPython\n",
      "('3', '12', '3')\n"
     ]
    }
   ],
   "source": [
    "import platform\n",
    "print(platform.platform())\n",
    "print(platform.machine())\n",
    "print(platform.system())\n",
    "print(platform.processor())\n",
    "print(platform.python_implementation())\n",
    "print(platform.python_version_tuple())"
   ]
  },
  {
   "cell_type": "code",
   "execution_count": 118,
   "id": "3c1b3259",
   "metadata": {},
   "outputs": [
    {
     "data": {
      "text/plain": [
       "[0, 1, 2, 3, 4, 5, 6, 7, 8, 9]"
      ]
     },
     "execution_count": 118,
     "metadata": {},
     "output_type": "execute_result"
    }
   ],
   "source": [
    "list(range(10))"
   ]
  },
  {
   "cell_type": "code",
   "execution_count": 144,
   "id": "162853fa",
   "metadata": {},
   "outputs": [
    {
     "data": {
      "text/plain": [
       "([9, 20, 61, 2, 62], 62)"
      ]
     },
     "execution_count": 144,
     "metadata": {},
     "output_type": "execute_result"
    }
   ],
   "source": [
    "import random\n",
    "def generate_tickets(ticket_count, max_number):\n",
    "    v_ret = ()\n",
    "    v_ret = list(range(max_number))\n",
    "    v_ret = random.sample(v_ret, ticket_count)\n",
    "    ret = random.choice(v_ret)\n",
    "    return (v_ret , ret)\n",
    "\n",
    "generate_tickets(5,100)"
   ]
  },
  {
   "cell_type": "code",
   "execution_count": null,
   "id": "ebeea0bf",
   "metadata": {},
   "outputs": [
    {
     "name": "stdout",
     "output_type": "stream",
     "text": [
      "[0, 1, 2, 3, 4, 5, 6, 7, 8, 9]\n",
      "0\n",
      "[1, 2, 3, 4, 5, 6, 7, 8, 9]\n",
      "2\n",
      "[1, 2, 4, 5, 6, 7, 8, 9]\n",
      "4\n",
      "[1, 2, 4, 5, 7, 8, 9]\n",
      "5\n",
      "[1, 2, 4, 5, 7, 9]\n",
      "7\n",
      "9\n",
      "[1, 2, 4, 5, 7, 9]\n"
     ]
    }
   ],
   "source": [
    "# here when we loop a lisrt and pop elements from list the index positions shift and the looping chnages.\n",
    "data = list(range(10))\n",
    "print(data)\n",
    "# print(len(data))\n",
    "for i in data:\n",
    "    print(i)\n",
    "    if i < len(data):\n",
    "        data.pop(i)\n",
    "        print(data)\n",
    "print(data)"
   ]
  },
  {
   "cell_type": "code",
   "execution_count": null,
   "id": "b307123d",
   "metadata": {},
   "outputs": [],
   "source": []
  },
  {
   "cell_type": "code",
   "execution_count": null,
   "id": "49e05fda",
   "metadata": {},
   "outputs": [],
   "source": []
  }
 ],
 "metadata": {
  "kernelspec": {
   "display_name": "base",
   "language": "python",
   "name": "python3"
  },
  "language_info": {
   "codemirror_mode": {
    "name": "ipython",
    "version": 3
   },
   "file_extension": ".py",
   "mimetype": "text/x-python",
   "name": "python",
   "nbconvert_exporter": "python",
   "pygments_lexer": "ipython3",
   "version": "3.12.4"
  }
 },
 "nbformat": 4,
 "nbformat_minor": 5
}
