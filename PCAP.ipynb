{
 "cells": [
  {
   "cell_type": "code",
   "execution_count": 27,
   "id": "833c2ee8",
   "metadata": {},
   "outputs": [
    {
     "name": "stdout",
     "output_type": "stream",
     "text": [
      "['__doc__', '__file__', '__loader__', '__name__', '__package__', '__spec__', 'acos', 'acosh', 'asin', 'asinh', 'atan', 'atan2', 'atanh', 'cbrt', 'ceil', 'comb', 'copysign', 'cos', 'cosh', 'degrees', 'dist', 'e', 'erf', 'erfc', 'exp', 'exp2', 'expm1', 'fabs', 'factorial', 'floor', 'fmod', 'frexp', 'fsum', 'gamma', 'gcd', 'hypot', 'inf', 'isclose', 'isfinite', 'isinf', 'isnan', 'isqrt', 'lcm', 'ldexp', 'lgamma', 'log', 'log10', 'log1p', 'log2', 'modf', 'nan', 'nextafter', 'perm', 'pi', 'pow', 'prod', 'radians', 'remainder', 'sin', 'sinh', 'sqrt', 'sumprod', 'tan', 'tanh', 'tau', 'trunc', 'ulp']\n",
      "4\n",
      "1\n",
      "3\n",
      "2\n"
     ]
    }
   ],
   "source": [
    "import math\n",
    "print(dir(math), end='\\n')\n",
    "print(math.ceil(3.9))  #“Round up” to the smallest integer ≥ x\n",
    "print(math.trunc(1.999999)) # r“Round down” to the largest integer ≤ x\n",
    "print(math.floor(3.99)) #Chop off the fractional part, keeping the integer part only\n",
    "print(math.factorial(2))# factorial only works for positive integers. n! = n * (n-1)"
   ]
  },
  {
   "cell_type": "code",
   "execution_count": 117,
   "id": "331b77d9",
   "metadata": {},
   "outputs": [
    {
     "name": "stdout",
     "output_type": "stream",
     "text": [
      "1\n"
     ]
    }
   ],
   "source": [
    "import math \n",
    "x = math.trunc(3.4) != math.ceil(3.4) #print(int(True )) --gives---1 and print(int(False))---0\n",
    "print(int(x))"
   ]
  },
  {
   "cell_type": "code",
   "execution_count": 138,
   "id": "b714da7c",
   "metadata": {},
   "outputs": [
    {
     "name": "stdout",
     "output_type": "stream",
     "text": [
      "0.3984495817494874\n",
      "0.13042773005578567\n",
      "0.5791983256664136\n",
      "0.12410240515674054\n",
      "0.7066868407027309\n",
      "0.6386976408522814\n",
      "0.9316473592778284\n",
      "0.1676793224879891\n",
      "0.11712667664643583\n",
      "0.4803510409110483\n",
      "6\n",
      "[1, 6, 2, 4, 5]\n"
     ]
    }
   ],
   "source": [
    "import random # random gives the random elements between 0 & 1\n",
    "for i in range(10):\n",
    "    print(random.random())\n",
    "\n",
    "a = [1,2,4,5,6]\n",
    "\n",
    "print(random.choice(a)) # we can use choice to select random element froma list but it might give duplicates\n",
    "\n",
    "b = ['ram', 'ford', 'bmw', 'kia']\n",
    "print(random.sample(a,5)) # with sample we can give a positional arg and gives no duplicates\n",
    "#picks elements with unique indexes but doesn't verify whether the elements at these indexes are unique"
   ]
  },
  {
   "cell_type": "code",
   "execution_count": 77,
   "id": "bf810933",
   "metadata": {},
   "outputs": [
    {
     "name": "stdout",
     "output_type": "stream",
     "text": [
      "macOS-14.2.1-arm64-arm-64bit\n",
      "arm64\n",
      "Darwin\n",
      "arm\n",
      "CPython\n",
      "('3', '12', '3')\n"
     ]
    }
   ],
   "source": [
    "import platform\n",
    "print(platform.platform())\n",
    "print(platform.machine())\n",
    "print(platform.system())\n",
    "print(platform.processor())\n",
    "print(platform.python_implementation())\n",
    "print(platform.python_version_tuple())"
   ]
  },
  {
   "cell_type": "code",
   "execution_count": 118,
   "id": "3c1b3259",
   "metadata": {},
   "outputs": [
    {
     "data": {
      "text/plain": [
       "[0, 1, 2, 3, 4, 5, 6, 7, 8, 9]"
      ]
     },
     "execution_count": 118,
     "metadata": {},
     "output_type": "execute_result"
    }
   ],
   "source": [
    "list(range(10))"
   ]
  },
  {
   "cell_type": "code",
   "execution_count": null,
   "id": "162853fa",
   "metadata": {},
   "outputs": [
    {
     "data": {
      "text/plain": [
       "([77, 80, 7, 59, 82], 7)"
      ]
     },
     "execution_count": 12,
     "metadata": {},
     "output_type": "execute_result"
    }
   ],
   "source": [
    "# generate random list from a max and select a\n",
    "import random\n",
    "def generate_tickets(ticket_count, max_number):\n",
    "    v_ret = ()\n",
    "    v_ret = list(range(max_number))\n",
    "    v_ret = random.sample(v_ret, ticket_count)\n",
    "    ret = random.choice(v_ret)\n",
    "    return (v_ret , ret)\n",
    "\n",
    "generate_tickets(5,100)"
   ]
  },
  {
   "cell_type": "code",
   "execution_count": 15,
   "id": "ebeea0bf",
   "metadata": {},
   "outputs": [
    {
     "name": "stdout",
     "output_type": "stream",
     "text": [
      "[1, 2, 4, 5, 7, 9]\n"
     ]
    }
   ],
   "source": [
    "# here when we loop a lisrt and pop elements from list the index positions shift and the looping chnages.\n",
    "data = list(range(10))\n",
    "# print(len(data))\n",
    "for i in data:\n",
    "    if i < len(data):\n",
    "        data.pop(i)\n",
    "print(data)"
   ]
  },
  {
   "cell_type": "markdown",
   "id": "7391e803",
   "metadata": {},
   "source": [
    "                                            LIST COMPREHENSIONS                                                        "
   ]
  },
  {
   "cell_type": "code",
   "execution_count": 129,
   "id": "b307123d",
   "metadata": {},
   "outputs": [
    {
     "name": "stdout",
     "output_type": "stream",
     "text": [
      "[0, 1, 4, 9, 16, 25, 36, 49, 64, 81]\n"
     ]
    }
   ],
   "source": [
    "new = [number * number for number in range(10)]\n",
    "print(new)"
   ]
  },
  {
   "cell_type": "code",
   "execution_count": null,
   "id": "49e05fda",
   "metadata": {},
   "outputs": [
    {
     "name": "stdout",
     "output_type": "stream",
     "text": [
      "[[0, 1, 2, 3, 4, 5, 6, 7, 8, 9], [0, 1, 2, 3, 4, 5, 6, 7, 8, 9], [0, 1, 2, 3, 4, 5, 6, 7, 8, 9], [0, 1, 2, 3, 4, 5, 6, 7, 8, 9], [0, 1, 2, 3, 4, 5, 6, 7, 8, 9]]\n"
     ]
    }
   ],
   "source": [
    "\"\"\"inner list cmprn will create the list in range \n",
    "of 10 and outer list will do split for 5 times \"\"\"\n",
    "\n",
    "new = [[number for number in range(10)] for _ in range(5)] \n",
    "print(new)"
   ]
  },
  {
   "cell_type": "code",
   "execution_count": null,
   "id": "69da8ecf",
   "metadata": {},
   "outputs": [
    {
     "name": "stdout",
     "output_type": "stream",
     "text": [
      "[0, 2, 4, 6, 8, 10, 12, 14, 16, 18, 20]\n"
     ]
    }
   ],
   "source": [
    "# even numbers below 20\n",
    "even_num = [number for number in range(21) if number%2 == 0]\n",
    "print(even_num)"
   ]
  },
  {
   "cell_type": "code",
   "execution_count": null,
   "id": "21f38db0",
   "metadata": {},
   "outputs": [
    {
     "name": "stdout",
     "output_type": "stream",
     "text": [
      "['APPLE', 'BANANA', 'CHERRY']\n"
     ]
    }
   ],
   "source": [
    "#convert the list elements to upper case \n",
    "names = ['apple', 'banana', 'cherry']\n",
    "new_caps = [name.upper() for name in names]\n",
    "print(new_caps)"
   ]
  },
  {
   "cell_type": "code",
   "execution_count": 161,
   "id": "623f5723",
   "metadata": {},
   "outputs": [
    {
     "name": "stdout",
     "output_type": "stream",
     "text": [
      "['a', 'b', 'c']\n"
     ]
    }
   ],
   "source": [
    "# print first letter for each list item\n",
    "names = ['apple', 'banana', 'cherry']\n",
    "new_first_letter = [name[0] for name in names]\n",
    "print(new_first_letter)"
   ]
  },
  {
   "cell_type": "code",
   "execution_count": 162,
   "id": "647c670e",
   "metadata": {},
   "outputs": [
    {
     "data": {
      "text/plain": [
       "[0, 3, 6, 9, 12, 15, 18, 21, 24, 27, 30]"
      ]
     },
     "execution_count": 162,
     "metadata": {},
     "output_type": "execute_result"
    }
   ],
   "source": [
    "# create a list number divisible by 3\n",
    "new = [number for number in range(31) if number%3 == 0]\n",
    "new"
   ]
  },
  {
   "cell_type": "code",
   "execution_count": null,
   "id": "10b503eb",
   "metadata": {},
   "outputs": [
    {
     "data": {
      "text/plain": [
       "[3, 8, 5]"
      ]
     },
     "execution_count": 157,
     "metadata": {},
     "output_type": "execute_result"
    }
   ],
   "source": [
    "# length of each element in a list\n",
    "names = ['cat', 'elephant', 'tiger']\n",
    "new = [len(name) for name in names]\n",
    "new\n"
   ]
  },
  {
   "cell_type": "code",
   "execution_count": null,
   "id": "7d0be805",
   "metadata": {},
   "outputs": [
    {
     "data": {
      "text/plain": [
       "['hello', 'world', 'python', 'programming', 'defgh']"
      ]
     },
     "execution_count": 160,
     "metadata": {},
     "output_type": "execute_result"
    }
   ],
   "source": [
    "# print only words if lenght > 5\n",
    "words = ['hello', 'world', 'python', 'programming', 'abc', 'defgh']\n",
    "new = [word for word in words if len(word) >= 5 ]\n",
    "new"
   ]
  },
  {
   "cell_type": "code",
   "execution_count": null,
   "id": "068390d3",
   "metadata": {},
   "outputs": [
    {
     "data": {
      "text/plain": [
       "['H', 'l', 'l', ' ', 'W', 'r', 'l', 'd']"
      ]
     },
     "execution_count": 170,
     "metadata": {},
     "output_type": "execute_result"
    }
   ],
   "source": [
    "# give list of words which are not vowles\n",
    "names = 'Hello World'\n",
    "new = [name for name in names if name not in 'aeiou']\n",
    "new"
   ]
  },
  {
   "cell_type": "code",
   "execution_count": null,
   "id": "f62ca053",
   "metadata": {},
   "outputs": [
    {
     "data": {
      "text/plain": [
       "[1, 2, 3, 4, 5, 6]"
      ]
     },
     "execution_count": 173,
     "metadata": {},
     "output_type": "execute_result"
    }
   ],
   "source": [
    "# flattening lists\n",
    "matrix = [[1, 2], [3, 4], [5, 6]]\n",
    "new = [one for one in matrix for one in one]\n",
    "new"
   ]
  },
  {
   "cell_type": "code",
   "execution_count": null,
   "id": "10f2467a",
   "metadata": {},
   "outputs": [
    {
     "data": {
      "text/plain": [
       "[(1, 'a'), (1, 'b'), (2, 'a'), (2, 'b')]"
      ]
     },
     "execution_count": 179,
     "metadata": {},
     "output_type": "execute_result"
    }
   ],
   "source": [
    "# cartesian product of 2 lists\n",
    "A = [1, 2]\n",
    "B = ['a', 'b']\n",
    "new = [(a,b) for a in A for b in B]\n",
    "new"
   ]
  },
  {
   "cell_type": "code",
   "execution_count": null,
   "id": "4fc203c9",
   "metadata": {},
   "outputs": [],
   "source": []
  },
  {
   "cell_type": "code",
   "execution_count": null,
   "id": "4d1a667b",
   "metadata": {},
   "outputs": [],
   "source": []
  }
 ],
 "metadata": {
  "kernelspec": {
   "display_name": "base",
   "language": "python",
   "name": "python3"
  },
  "language_info": {
   "codemirror_mode": {
    "name": "ipython",
    "version": 3
   },
   "file_extension": ".py",
   "mimetype": "text/x-python",
   "name": "python",
   "nbconvert_exporter": "python",
   "pygments_lexer": "ipython3",
   "version": "3.12.4"
  }
 },
 "nbformat": 4,
 "nbformat_minor": 5
}
